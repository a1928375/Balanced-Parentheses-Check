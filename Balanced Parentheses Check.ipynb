{
 "cells": [
  {
   "cell_type": "markdown",
   "metadata": {},
   "source": [
    "# Mine-1"
   ]
  },
  {
   "cell_type": "code",
   "execution_count": 5,
   "metadata": {},
   "outputs": [
    {
     "name": "stdout",
     "output_type": "stream",
     "text": [
      "True\n",
      "False\n",
      "True\n",
      "False\n",
      "False\n",
      "True\n",
      "False\n",
      "52.7 µs ± 16.4 µs per loop (mean ± std. dev. of 7 runs, 10000 loops each)\n"
     ]
    }
   ],
   "source": [
    "def balance_check(s):\n",
    "    \n",
    "    if len(s)%2 != 0:                                                        #deal with non-even string\n",
    "        return False\n",
    "\n",
    "    parenthesis = [\"()\",\"[]\",\"{}\"]\n",
    "    \n",
    "    i = 0\n",
    "\n",
    "    while i < len(s):                                                        #每當執行一次if statement => i =0\n",
    "                                                                             #如此一來 while loop 才可以處理完整個string\n",
    "        \n",
    "        if parenthesis[0] in s:\n",
    "            \n",
    "            s = s[:s.find(parenthesis[0])] + s[s.find(parenthesis[0])+2:]    #deal with () in string\n",
    "            i = 0                                                            \n",
    "        \n",
    "        if parenthesis[1] in s:\n",
    "            \n",
    "            s = s[:s.find(parenthesis[1])] + s[s.find(parenthesis[1])+2:]   #deal with [] in string\n",
    "            i = 0\n",
    "        \n",
    "        if parenthesis[2] in s:\n",
    "            \n",
    "            s = s[:s.find(parenthesis[2])] + s[s.find(parenthesis[2])+2:]   #deal with {} in string\n",
    "            i = 0\n",
    "        \n",
    "        i = i+1\n",
    "    \n",
    "    if s != \"\":                                                             #string要為empty\n",
    "        \n",
    "        return False\n",
    "    \n",
    "    return True\n",
    "\n",
    "print (balance_check('[]'))\n",
    "print (balance_check('([)]'))\n",
    "print (balance_check('[](){([[[]]])}'))\n",
    "print (balance_check('()(){]}'))\n",
    "print (balance_check('[](){([[[]]])}('))\n",
    "print (balance_check('[{{{(())}}}]((()))'))\n",
    "print (balance_check('[[[]])]'))\n",
    "\n",
    "%timeit balance_check('[{{{(())}}}]((()))[{{{(())}}}]((()))[{{{(())}}}]((()))[{{{(())}}}]((()))[{{{(())}}}]((()))[{{{(())}}}]((()))')"
   ]
  },
  {
   "cell_type": "markdown",
   "metadata": {},
   "source": [
    "# Mine-2-using stack"
   ]
  },
  {
   "cell_type": "code",
   "execution_count": 6,
   "metadata": {},
   "outputs": [
    {
     "name": "stdout",
     "output_type": "stream",
     "text": [
      "True\n",
      "False\n",
      "True\n",
      "False\n",
      "False\n",
      "True\n",
      "False\n",
      "38.5 µs ± 13.7 µs per loop (mean ± std. dev. of 7 runs, 10000 loops each)\n"
     ]
    }
   ],
   "source": [
    "def balance_check(s):    \n",
    "        \n",
    "    if len(s)%2 != 0:\n",
    "        \n",
    "        return False\n",
    "\n",
    "    opening = [\"(\",\"[\",\"{\"]\n",
    "    closing = [\")\",\"]\",\"}\"]\n",
    "    \n",
    "    stack = []\n",
    "    \n",
    "    for ele in s:\n",
    "        \n",
    "        if ele in opening:\n",
    "            \n",
    "            stack.append(ele)\n",
    "        \n",
    "        elif ele in closing and stack[-1] != opening[closing.index(ele)]:   #check ele是否可以match stack中的last one\n",
    "            \n",
    "            return False\n",
    "        \n",
    "        else:\n",
    "            stack.pop()\n",
    "    \n",
    "    return True\n",
    "\n",
    "print (balance_check('[]'))\n",
    "print (balance_check('([)]'))\n",
    "print (balance_check('[](){([[[]]])}'))\n",
    "print (balance_check('()(){]}'))\n",
    "print (balance_check('[](){([[[]]])}('))\n",
    "print (balance_check('[{{{(())}}}]((()))'))\n",
    "print (balance_check('[[[]])]'))\n",
    "%timeit balance_check('[{{{(())}}}]((()))[{{{(())}}}]((()))[{{{(())}}}]((()))[{{{(())}}}]((()))[{{{(())}}}]((()))[{{{(())}}}]((()))')"
   ]
  },
  {
   "cell_type": "markdown",
   "metadata": {},
   "source": [
    "# Instructor"
   ]
  },
  {
   "cell_type": "code",
   "execution_count": 9,
   "metadata": {},
   "outputs": [
    {
     "name": "stdout",
     "output_type": "stream",
     "text": [
      "22.4 µs ± 96 ns per loop (mean ± std. dev. of 7 runs, 10000 loops each)\n"
     ]
    }
   ],
   "source": [
    "def balance_check(s):\n",
    "    \n",
    "    # Check is even number of brackets\n",
    "    if len(s)%2 != 0:\n",
    "        \n",
    "        return False\n",
    "    \n",
    "    # Set of opening brackets\n",
    "    opening = set('([{') \n",
    "    \n",
    "    # Matching Pairs\n",
    "    matches = set([ ('(',')'), ('[',']'), ('{','}') ]) \n",
    "    \n",
    "    # Use a list as a \"Stack\"\n",
    "    stack = []\n",
    "    \n",
    "    # Check every parenthesis in string\n",
    "    for paren in s:\n",
    "        \n",
    "        # If its an opening, append it to list\n",
    "        if paren in opening:\n",
    "            \n",
    "            stack.append(paren)\n",
    "        \n",
    "        else:\n",
    "            \n",
    "            # Check that there are parentheses in Stack\n",
    "            if len(stack) == 0:\n",
    "                \n",
    "                return False\n",
    "            \n",
    "            # Check the last open parenthesis\n",
    "            last_open = stack.pop()\n",
    "            \n",
    "            # Check if it has a closing match\n",
    "            if (last_open,paren) not in matches:\n",
    "                \n",
    "                return False\n",
    "            \n",
    "    return len(stack) == 0\n",
    "\n",
    "%timeit balance_check('[{{{(())}}}]((()))[{{{(())}}}]((()))[{{{(())}}}]((()))[{{{(())}}}]((()))[{{{(())}}}]((()))[{{{(())}}}]((()))')"
   ]
  },
  {
   "cell_type": "code",
   "execution_count": null,
   "metadata": {},
   "outputs": [],
   "source": []
  }
 ],
 "metadata": {
  "kernelspec": {
   "display_name": "Python 3",
   "language": "python",
   "name": "python3"
  },
  "language_info": {
   "codemirror_mode": {
    "name": "ipython",
    "version": 3
   },
   "file_extension": ".py",
   "mimetype": "text/x-python",
   "name": "python",
   "nbconvert_exporter": "python",
   "pygments_lexer": "ipython3",
   "version": "3.7.3"
  }
 },
 "nbformat": 4,
 "nbformat_minor": 2
}
